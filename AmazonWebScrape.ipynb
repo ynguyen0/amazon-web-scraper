{
 "cells": [
  {
   "cell_type": "code",
   "execution_count": 9,
   "id": "5de42658-1196-4ef5-a0c5-891f481bd977",
   "metadata": {},
   "outputs": [],
   "source": [
    "# import libraries \n",
    "\n",
    "from bs4 import BeautifulSoup\n",
    "import requests\n",
    "import time\n",
    "import datetime\n",
    "import smtplib"
   ]
  },
  {
   "cell_type": "code",
   "execution_count": 11,
   "id": "ce781304-0096-4519-96e5-54e4bff8fcc7",
   "metadata": {},
   "outputs": [
    {
     "name": "stdout",
     "output_type": "stream",
     "text": [
      "\n",
      "             Summer Fridays Lip Butter Balm - Conditioning Lip Mask and Lip Balm for Instant Moisture, Shine and Hydration - Sheer-Tinted, Soothing Lip Care - Vanilla Beige (.5 Oz)\n",
      "            \n",
      "\n",
      "\n",
      "\n",
      "\n",
      "\n",
      "\n",
      "\n",
      "                                       $\n",
      "                                      \n",
      "\n",
      "\n",
      "\n",
      "\n",
      "                                       24\n",
      "                                       \n",
      "                                        .\n",
      "                                       \n",
      "\n",
      "\n",
      "                                       00\n",
      "                                      \n",
      "\n",
      "\n",
      "\n"
     ]
    }
   ],
   "source": [
    "# connect to web\n",
    "\n",
    "URL = 'https://www.amazon.com/Summer-Fridays-Lip-Butter-Balm/dp/B09FYJWPDB/ref=sr_1_2?crid=ZJW6AQRJKRPP&dib=eyJ2IjoiMSJ9.jlgx17wUuxbHtHZ_w_vTL7Tp2GuV-kpD8-59HqfwxZqBr3bQt8_9-_cNgG7ldQ5RQwXkJYTm4q2dsgRf5_ss44sAKJ46d-56U7KLGERThm0ZCD_WSYcLUKmDy-eIRfdjJZ0Mez3Yji1gyTOviGaByrr8PCi682HZwnguY7OjNZT9zcEGIDsT9-ukkY9oDqntqk8SPmx9UPRG6bGxah-WDYKfnznt_KxBb220XonaPYQ77ZXnVM1klc4ID6rMkQdEAnY1QKfqoR19tXH45vKoPZNgahvcRfzhPcir8s3Iw40.usm-99Uwxr91eC8AdC5-U5mro1Is4GuVlN7zcO53DKc&dib_tag=se&keywords=summer%2Bfridays%2Blip%2Bbalm&qid=1720158179&sprefix=summer%2Bfridays%2Blipbalm%2Caps%2C1083&sr=8-2'\n",
    "\n",
    "headers = {\"User-Agent\": \"Mozilla/5.0 (Windows NT 10.0; Win64; x64) AppleWebKit/537.36 (KHTML, like Gecko) Chrome/126.0.0.0 Safari/537.36\", \"Accept-Encoding\":\"gzip, deflate\", \"Accept\":\"text/html,application/xhtml+xml,application/xml;q=0.9,*/*;q=0.8\", \"DNT\":\"1\",\"Connection\":\"close\", \"Upgrade-Insecure-Requests\":\"1\"}\n",
    "\n",
    "page = requests.get(URL, headers=headers)\n",
    "\n",
    "soup1 = BeautifulSoup(page.content, \"html.parser\")\n",
    "soup2 = BeautifulSoup(soup1.prettify(), \"html.parser\")\n",
    "title = soup2.find(id='productTitle').get_text()\n",
    "price = soup2.find(id='tp-tool-tip-price').get_text()\n",
    "\n",
    "print(title)\n",
    "print(price)"
   ]
  },
  {
   "cell_type": "code",
   "execution_count": 12,
   "id": "ea702470-949c-464c-b542-489a40b63d7e",
   "metadata": {},
   "outputs": [
    {
     "name": "stdout",
     "output_type": "stream",
     "text": [
      "Summer Fridays Lip Butter Balm - Conditioning Lip Mask and Lip Balm for Instant Moisture, Shine and Hydration - Sheer-Tinted, Soothing Lip Care - Vanilla Beige (.5 Oz)\n",
      "24.00\n"
     ]
    }
   ],
   "source": [
    "# cleaning up the title and price data\n",
    "import re\n",
    "\n",
    "title = title.strip()\n",
    "print(title)\n",
    "\n",
    "price = re.sub(r'\\s+', '', price).strip()[1:]\n",
    "print(price)"
   ]
  },
  {
   "cell_type": "code",
   "execution_count": 15,
   "id": "eb169889-3bf4-42ea-ab16-cc5363c1dd5c",
   "metadata": {},
   "outputs": [
    {
     "name": "stdout",
     "output_type": "stream",
     "text": [
      "2024-07-05\n"
     ]
    }
   ],
   "source": [
    "# create timestamp of when data was collected\n",
    "\n",
    "import datetime\n",
    "today = datetime.date.today()\n",
    "print(today)"
   ]
  },
  {
   "cell_type": "code",
   "execution_count": 17,
   "id": "2dcd10c0-d8e4-489d-8c8a-cfcf5eac2eed",
   "metadata": {},
   "outputs": [],
   "source": [
    "# create csv, add headers and title to file\n",
    "import csv\n",
    "\n",
    "header = ['Title', 'Price', 'Date']\n",
    "data = [title, price, today]\n",
    "\n",
    "with open ('AmazonWebScraperDataset.csv', 'w', newline='', encoding='UTF8') as f:\n",
    "    writer = csv.writer(f)\n",
    "    writer.writerow(header)\n",
    "    writer.writerow(data)"
   ]
  },
  {
   "cell_type": "code",
   "execution_count": 23,
   "id": "1853de80-9a8d-471f-9214-0a146c412a0f",
   "metadata": {},
   "outputs": [
    {
     "name": "stdout",
     "output_type": "stream",
     "text": [
      "                                               Title  Price        Date\n",
      "0  Summer Fridays Lip Butter Balm - Conditioning ...   24.0  2024-07-05\n",
      "1  Summer Fridays Lip Butter Balm - Conditioning ...   24.0  2024-07-05\n"
     ]
    }
   ],
   "source": [
    "import pandas as pd\n",
    "df = pd.read_csv(r'C:\\Users\\ynhan\\AmazonWebScraperDataset.csv')\n",
    "print(df)"
   ]
  },
  {
   "cell_type": "code",
   "execution_count": 21,
   "id": "24983548-c680-4c8b-80d3-5fcca8b8c89d",
   "metadata": {},
   "outputs": [],
   "source": [
    "# append data to csv\n",
    "import csv\n",
    "\n",
    "with open('AmazonWebScraperDataset.csv', 'a+', newline='', encoding='UTF8') as f:\n",
    "    writer = csv.writer(f)\n",
    "    writer.writerow(data)"
   ]
  },
  {
   "cell_type": "code",
   "execution_count": 30,
   "id": "663c905b-1e97-4e31-aa6d-aefc61f1aa2d",
   "metadata": {},
   "outputs": [],
   "source": [
    "def check_price():\n",
    "\n",
    "    URL = 'https://www.amazon.com/Summer-Fridays-Lip-Butter-Balm/dp/B09FYJWPDB/ref=sr_1_2?crid=ZJW6AQRJKRPP&dib=eyJ2IjoiMSJ9.jlgx17wUuxbHtHZ_w_vTL7Tp2GuV-kpD8-59HqfwxZqBr3bQt8_9-_cNgG7ldQ5RQwXkJYTm4q2dsgRf5_ss44sAKJ46d-56U7KLGERThm0ZCD_WSYcLUKmDy-eIRfdjJZ0Mez3Yji1gyTOviGaByrr8PCi682HZwnguY7OjNZT9zcEGIDsT9-ukkY9oDqntqk8SPmx9UPRG6bGxah-WDYKfnznt_KxBb220XonaPYQ77ZXnVM1klc4ID6rMkQdEAnY1QKfqoR19tXH45vKoPZNgahvcRfzhPcir8s3Iw40.usm-99Uwxr91eC8AdC5-U5mro1Is4GuVlN7zcO53DKc&dib_tag=se&keywords=summer%2Bfridays%2Blip%2Bbalm&qid=1720158179&sprefix=summer%2Bfridays%2Blipbalm%2Caps%2C1083&sr=8-2'\n",
    "\n",
    "    headers = {\"User-Agent\": \"Mozilla/5.0 (Windows NT 10.0; Win64; x64) AppleWebKit/537.36 (KHTML, like Gecko) Chrome/126.0.0.0 Safari/537.36\", \"Accept-Encoding\":\"gzip, deflate\", \"Accept\":\"text/html,application/xhtml+xml,application/xml;q=0.9,*/*;q=0.8\", \"DNT\":\"1\",\"Connection\":\"close\", \"Upgrade-Insecure-Requests\":\"1\"}\n",
    "\n",
    "    page = requests.get(URL, headers=headers)\n",
    "\n",
    "    soup1 = BeautifulSoup(page.content, \"html.parser\")\n",
    "    soup2 = BeautifulSoup(soup1.prettify(), \"html.parser\")\n",
    "    title = soup2.find(id='productTitle').get_text()\n",
    "    price = soup2.find(id='tp-tool-tip-price').get_text()\n",
    "\n",
    "    import re\n",
    "    title = title.strip()\n",
    "    price = re.sub(r'\\s+', '', price).strip()[1:]\n",
    "\n",
    "    import datetime\n",
    "    today = datetime.date.today()\n",
    "    print(today)\n",
    "\n",
    "    import csv\n",
    "    header = ['Title', 'Price', 'Date']\n",
    "    data = [title, price, today]\n",
    "\n",
    "    with open('AmazonWebScraperDataset.csv', 'a+', newline='', encoding='UTF8') as f:\n",
    "        writer = csv.writer(f)\n",
    "        writer.writerow(data)\n",
    "\n",
    "    if (price < 24)\n",
    "        send_mail()\n",
    " "
   ]
  },
  {
   "cell_type": "code",
   "execution_count": null,
   "id": "2d9f4adb-e0af-420e-b283-f77ad37958db",
   "metadata": {},
   "outputs": [
    {
     "name": "stdout",
     "output_type": "stream",
     "text": [
      "2024-07-05\n"
     ]
    }
   ],
   "source": [
    "# runs check_price() after a set time and inputs data into  CSV\n",
    "while(True):\n",
    "    check_price()\n",
    "    # runs check_price() daily\n",
    "    time.sleep(86400)"
   ]
  },
  {
   "cell_type": "code",
   "execution_count": null,
   "id": "4e594c72-92e8-4222-b500-10cfe7bb76d5",
   "metadata": {},
   "outputs": [],
   "source": [
    "import pandas as pd\n",
    "\n",
    "df = pd.read_csv(r'C:\\Users\\ynhan\\AmazonWebScraperDataset.csv')\n",
    "print(df)"
   ]
  },
  {
   "cell_type": "code",
   "execution_count": null,
   "id": "703c7751-56a0-491b-86cd-3ff513faf19b",
   "metadata": {},
   "outputs": [],
   "source": [
    "# sends an email when the price drops below standard amount\n",
    "\n",
    "def send_mail():\n",
    "    server = smtplib.SMTP_SSL('smtp.gmail.com',465)\n",
    "    server.ehlo()\n",
    "    server.ehlo()\n",
    "    server.login('ynha.nguy@gmail.com','xxxxxxxxxxx')\n",
    "    \n",
    "    subject = \"Summer Fridays Price Drop\"\n",
    "    body = \"Summer Fridays' Lip Butter Balm in the shade Vanilla Beige is currently on sale! Shop using the link here: https://www.amazon.com/Summer-Fridays-Lip-Butter-Balm/dp/B09FYJWPDB/ref=sr_1_2?crid=ZJW6AQRJKRPP&dib=eyJ2IjoiMSJ9.jlgx17wUuxbHtHZ_w_vTL7Tp2GuV-kpD8-59HqfwxZqBr3bQt8_9-_cNgG7ldQ5RQwXkJYTm4q2dsgRf5_ss44sAKJ46d-56U7KLGERThm0ZCD_WSYcLUKmDy-eIRfdjJZ0Mez3Yji1gyTOviGaByrr8PCi682HZwnguY7OjNZT9zcEGIDsT9-ukkY9oDqntqk8SPmx9UPRG6bGxah-WDYKfnznt_KxBb220XonaPYQ77ZXnVM1klc4ID6rMkQdEAnY1QKfqoR19tXH45vKoPZNgahvcRfzhPcir8s3Iw40.usm-99Uwxr91eC8AdC5-U5mro1Is4GuVlN7zcO53DKc&dib_tag=se&keywords=summer%2Bfridays%2Blip%2Bbalm&qid=1720158179&sprefix=summer%2Bfridays%2Blipbalm%2Caps%2C1083&sr=8-2\"\n",
    "   \n",
    "    msg = f\"Subject: {subject}\\n\\n{body}\"\n",
    "    \n",
    "    server.sendmail(\n",
    "        'ynha.nguy@gmail.com',\n",
    "        msg\n",
    "    )"
   ]
  }
 ],
 "metadata": {
  "kernelspec": {
   "display_name": "Python 3 (ipykernel)",
   "language": "python",
   "name": "python3"
  },
  "language_info": {
   "codemirror_mode": {
    "name": "ipython",
    "version": 3
   },
   "file_extension": ".py",
   "mimetype": "text/x-python",
   "name": "python",
   "nbconvert_exporter": "python",
   "pygments_lexer": "ipython3",
   "version": "3.12.4"
  }
 },
 "nbformat": 4,
 "nbformat_minor": 5
}
